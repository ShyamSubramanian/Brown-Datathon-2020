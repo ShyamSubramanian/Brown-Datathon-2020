{
 "cells": [
  {
   "cell_type": "code",
   "execution_count": 1,
   "metadata": {},
   "outputs": [],
   "source": [
    "import pandas as pd"
   ]
  },
  {
   "cell_type": "code",
   "execution_count": 2,
   "metadata": {},
   "outputs": [],
   "source": [
    "pd.options.display.max_colwidth=2000\n"
   ]
  },
  {
   "cell_type": "code",
   "execution_count": 3,
   "metadata": {},
   "outputs": [],
   "source": [
    "df = pd.read_csv('insertions.tsv',sep='\\t')"
   ]
  },
  {
   "cell_type": "code",
   "execution_count": 5,
   "metadata": {},
   "outputs": [],
   "source": [
    "df1=df[0:10]"
   ]
  },
  {
   "cell_type": "code",
   "execution_count": 6,
   "metadata": {},
   "outputs": [
    {
     "data": {
      "text/html": [
       "<div>\n",
       "<style scoped>\n",
       "    .dataframe tbody tr th:only-of-type {\n",
       "        vertical-align: middle;\n",
       "    }\n",
       "\n",
       "    .dataframe tbody tr th {\n",
       "        vertical-align: top;\n",
       "    }\n",
       "\n",
       "    .dataframe thead th {\n",
       "        text-align: right;\n",
       "    }\n",
       "</style>\n",
       "<table border=\"1\" class=\"dataframe\">\n",
       "  <thead>\n",
       "    <tr style=\"text-align: right;\">\n",
       "      <th></th>\n",
       "      <th>base_sentence</th>\n",
       "      <th>phrase</th>\n",
       "      <th>edited_sentence</th>\n",
       "    </tr>\n",
       "  </thead>\n",
       "  <tbody>\n",
       "    <tr>\n",
       "      <th>0</th>\n",
       "      <td>Dadaji lost his mother and took to living with his maternal uncle Narayan Dhurmaji .</td>\n",
       "      <td>In the meanwhile ,</td>\n",
       "      <td>In the meanwhile , Dadaji lost his mother and took to living with his maternal uncle Narayan Dhurmaji .</td>\n",
       "    </tr>\n",
       "    <tr>\n",
       "      <th>1</th>\n",
       "      <td>Shin Jae - Pil ( ; born 25 May 1982 ) is a South Korean footballer who plays as defender .</td>\n",
       "      <td>for Malaysian club MISC - MIFA</td>\n",
       "      <td>Shin Jae - Pil ( ; born 25 May 1982 ) is a South Korean footballer who plays as defender for Malaysian club MISC - MIFA .</td>\n",
       "    </tr>\n",
       "    <tr>\n",
       "      <th>2</th>\n",
       "      <td>In 2007 Fleming launched the pregnancy and parenting website Gurgle in conjunction with Mothercare .</td>\n",
       "      <td>Media</td>\n",
       "      <td>In 2007 Fleming Media launched the pregnancy and parenting website Gurgle in conjunction with Mothercare .</td>\n",
       "    </tr>\n",
       "    <tr>\n",
       "      <th>3</th>\n",
       "      <td>From 9am Steve Moran covers all things racing including news updates and late mail .</td>\n",
       "      <td>until 10am</td>\n",
       "      <td>From 9am Steve Moran covers all things racing including news updates and late mail until 10am .</td>\n",
       "    </tr>\n",
       "    <tr>\n",
       "      <th>4</th>\n",
       "      <td>Korean tacos are a Korean - Mexican fusion dish popular in a number of urban areas in the United States .</td>\n",
       "      <td>and Canada</td>\n",
       "      <td>Korean tacos are a Korean - Mexican fusion dish popular in a number of urban areas in the United States and Canada .</td>\n",
       "    </tr>\n",
       "    <tr>\n",
       "      <th>5</th>\n",
       "      <td>Other locomotives and rolling stock are leased from Chicago Freight Car Leasing Australia , Australian Railroad Group and Genesee and Wyoming Australia ; or hired from various Victorian railway preservation groups such as the Seymour Railway Heritage Centre , Steamrail Victoria , and 707 Operations .</td>\n",
       "      <td>, Specialised Container Transport</td>\n",
       "      <td>Other locomotives and rolling stock are leased from Chicago Freight Car Leasing Australia , Australian Railroad Group , Specialised Container Transport and Genesee and Wyoming Australia ; or hired from various Victorian railway preservation groups such as the Seymour Railway Heritage Centre , Steamrail Victoria , and 707 Operations .</td>\n",
       "    </tr>\n",
       "    <tr>\n",
       "      <th>6</th>\n",
       "      <td>In the mid 17th century Captain Myles Philipson commanded the local forces from Westmorland under Lord Clifford and then Captain Bernard Philipson served with the English army in Holland .</td>\n",
       "      <td>, a few years later ,</td>\n",
       "      <td>In the mid 17th century Captain Myles Philipson commanded the local forces from Westmorland under Lord Clifford and then , a few years later , Captain Bernard Philipson served with the English army in Holland .</td>\n",
       "    </tr>\n",
       "    <tr>\n",
       "      <th>7</th>\n",
       "      <td>The county is noted for its distinctive Pacific Ocean coastline , Redwood forests , and wine production .</td>\n",
       "      <td>marijuana</td>\n",
       "      <td>The county is noted for its distinctive Pacific Ocean coastline , Redwood forests , marijuana and wine production .</td>\n",
       "    </tr>\n",
       "    <tr>\n",
       "      <th>8</th>\n",
       "      <td>Peters was recalled to Berlin and employed in the Imperial Colonial Office from 1893 to 1895 , while official accusations were brought against him of excesses in his treatment of the native population .</td>\n",
       "      <td>regard to</td>\n",
       "      <td>Peters was recalled to Berlin and employed in the Imperial Colonial Office from 1893 to 1895 , while official accusations were brought against him of excesses in regard to his treatment of the native population .</td>\n",
       "    </tr>\n",
       "    <tr>\n",
       "      <th>9</th>\n",
       "      <td>The neighborhood is primarily upper class , with homes owned by local professionals , scientists , and Silicon Valley executives .</td>\n",
       "      <td>athletes ,</td>\n",
       "      <td>The neighborhood is primarily upper class , with homes owned by local professionals , scientists , athletes , and Silicon Valley executives .</td>\n",
       "    </tr>\n",
       "  </tbody>\n",
       "</table>\n",
       "</div>"
      ],
      "text/plain": [
       "                                                                                                                                                                                                                                                                                                   base_sentence  \\\n",
       "0                                                                                                                                                                                                                           Dadaji lost his mother and took to living with his maternal uncle Narayan Dhurmaji .   \n",
       "1                                                                                                                                                                                                                     Shin Jae - Pil ( ; born 25 May 1982 ) is a South Korean footballer who plays as defender .   \n",
       "2                                                                                                                                                                                                           In 2007 Fleming launched the pregnancy and parenting website Gurgle in conjunction with Mothercare .   \n",
       "3                                                                                                                                                                                                                           From 9am Steve Moran covers all things racing including news updates and late mail .   \n",
       "4                                                                                                                                                                                                      Korean tacos are a Korean - Mexican fusion dish popular in a number of urban areas in the United States .   \n",
       "5  Other locomotives and rolling stock are leased from Chicago Freight Car Leasing Australia , Australian Railroad Group and Genesee and Wyoming Australia ; or hired from various Victorian railway preservation groups such as the Seymour Railway Heritage Centre , Steamrail Victoria , and 707 Operations .   \n",
       "6                                                                                                                   In the mid 17th century Captain Myles Philipson commanded the local forces from Westmorland under Lord Clifford and then Captain Bernard Philipson served with the English army in Holland .   \n",
       "7                                                                                                                                                                                                      The county is noted for its distinctive Pacific Ocean coastline , Redwood forests , and wine production .   \n",
       "8                                                                                                     Peters was recalled to Berlin and employed in the Imperial Colonial Office from 1893 to 1895 , while official accusations were brought against him of excesses in his treatment of the native population .   \n",
       "9                                                                                                                                                                             The neighborhood is primarily upper class , with homes owned by local professionals , scientists , and Silicon Valley executives .   \n",
       "\n",
       "                              phrase  \\\n",
       "0                 In the meanwhile ,   \n",
       "1     for Malaysian club MISC - MIFA   \n",
       "2                              Media   \n",
       "3                         until 10am   \n",
       "4                         and Canada   \n",
       "5  , Specialised Container Transport   \n",
       "6              , a few years later ,   \n",
       "7                          marijuana   \n",
       "8                          regard to   \n",
       "9                         athletes ,   \n",
       "\n",
       "                                                                                                                                                                                                                                                                                                                                   edited_sentence  \n",
       "0                                                                                                                                                                                                                                          In the meanwhile , Dadaji lost his mother and took to living with his maternal uncle Narayan Dhurmaji .  \n",
       "1                                                                                                                                                                                                                        Shin Jae - Pil ( ; born 25 May 1982 ) is a South Korean footballer who plays as defender for Malaysian club MISC - MIFA .  \n",
       "2                                                                                                                                                                                                                                       In 2007 Fleming Media launched the pregnancy and parenting website Gurgle in conjunction with Mothercare .  \n",
       "3                                                                                                                                                                                                                                                  From 9am Steve Moran covers all things racing including news updates and late mail until 10am .  \n",
       "4                                                                                                                                                                                                                             Korean tacos are a Korean - Mexican fusion dish popular in a number of urban areas in the United States and Canada .  \n",
       "5  Other locomotives and rolling stock are leased from Chicago Freight Car Leasing Australia , Australian Railroad Group , Specialised Container Transport and Genesee and Wyoming Australia ; or hired from various Victorian railway preservation groups such as the Seymour Railway Heritage Centre , Steamrail Victoria , and 707 Operations .  \n",
       "6                                                                                                                               In the mid 17th century Captain Myles Philipson commanded the local forces from Westmorland under Lord Clifford and then , a few years later , Captain Bernard Philipson served with the English army in Holland .  \n",
       "7                                                                                                                                                                                                                              The county is noted for its distinctive Pacific Ocean coastline , Redwood forests , marijuana and wine production .  \n",
       "8                                                                                                                             Peters was recalled to Berlin and employed in the Imperial Colonial Office from 1893 to 1895 , while official accusations were brought against him of excesses in regard to his treatment of the native population .  \n",
       "9                                                                                                                                                                                                    The neighborhood is primarily upper class , with homes owned by local professionals , scientists , athletes , and Silicon Valley executives .  "
      ]
     },
     "execution_count": 6,
     "metadata": {},
     "output_type": "execute_result"
    }
   ],
   "source": [
    "df1[0:10]"
   ]
  },
  {
   "cell_type": "code",
   "execution_count": 10,
   "metadata": {},
   "outputs": [
    {
     "name": "stderr",
     "output_type": "stream",
     "text": [
      "/home/avaratharaj/anaconda3/lib/python3.6/site-packages/ipykernel_launcher.py:1: SettingWithCopyWarning: \n",
      "A value is trying to be set on a copy of a slice from a DataFrame.\n",
      "Try using .loc[row_indexer,col_indexer] = value instead\n",
      "\n",
      "See the caveats in the documentation: http://pandas.pydata.org/pandas-docs/stable/user_guide/indexing.html#returning-a-view-versus-a-copy\n",
      "  \"\"\"Entry point for launching an IPython kernel.\n",
      "/home/avaratharaj/anaconda3/lib/python3.6/site-packages/ipykernel_launcher.py:2: SettingWithCopyWarning: \n",
      "A value is trying to be set on a copy of a slice from a DataFrame.\n",
      "Try using .loc[row_indexer,col_indexer] = value instead\n",
      "\n",
      "See the caveats in the documentation: http://pandas.pydata.org/pandas-docs/stable/user_guide/indexing.html#returning-a-view-versus-a-copy\n",
      "  \n",
      "/home/avaratharaj/anaconda3/lib/python3.6/site-packages/ipykernel_launcher.py:3: SettingWithCopyWarning: \n",
      "A value is trying to be set on a copy of a slice from a DataFrame.\n",
      "Try using .loc[row_indexer,col_indexer] = value instead\n",
      "\n",
      "See the caveats in the documentation: http://pandas.pydata.org/pandas-docs/stable/user_guide/indexing.html#returning-a-view-versus-a-copy\n",
      "  This is separate from the ipykernel package so we can avoid doing imports until\n"
     ]
    }
   ],
   "source": [
    "df1['base_sentence']=df1['base_sentence'].str.lower()\n",
    "df1['phrase']=df1['phrase'].str.lower()\n",
    "df1['edited_sentence']=df1['edited_sentence'].str.lower()"
   ]
  },
  {
   "cell_type": "code",
   "execution_count": 11,
   "metadata": {},
   "outputs": [
    {
     "data": {
      "text/html": [
       "<div>\n",
       "<style scoped>\n",
       "    .dataframe tbody tr th:only-of-type {\n",
       "        vertical-align: middle;\n",
       "    }\n",
       "\n",
       "    .dataframe tbody tr th {\n",
       "        vertical-align: top;\n",
       "    }\n",
       "\n",
       "    .dataframe thead th {\n",
       "        text-align: right;\n",
       "    }\n",
       "</style>\n",
       "<table border=\"1\" class=\"dataframe\">\n",
       "  <thead>\n",
       "    <tr style=\"text-align: right;\">\n",
       "      <th></th>\n",
       "      <th>base_sentence</th>\n",
       "      <th>phrase</th>\n",
       "      <th>edited_sentence</th>\n",
       "    </tr>\n",
       "  </thead>\n",
       "  <tbody>\n",
       "    <tr>\n",
       "      <th>0</th>\n",
       "      <td>dadaji lost his mother and took to living with his maternal uncle narayan dhurmaji .</td>\n",
       "      <td>in the meanwhile ,</td>\n",
       "      <td>in the meanwhile , dadaji lost his mother and took to living with his maternal uncle narayan dhurmaji .</td>\n",
       "    </tr>\n",
       "    <tr>\n",
       "      <th>1</th>\n",
       "      <td>shin jae - pil ( ; born 25 may 1982 ) is a south korean footballer who plays as defender .</td>\n",
       "      <td>for malaysian club misc - mifa</td>\n",
       "      <td>shin jae - pil ( ; born 25 may 1982 ) is a south korean footballer who plays as defender for malaysian club misc - mifa .</td>\n",
       "    </tr>\n",
       "    <tr>\n",
       "      <th>2</th>\n",
       "      <td>in 2007 fleming launched the pregnancy and parenting website gurgle in conjunction with mothercare .</td>\n",
       "      <td>media</td>\n",
       "      <td>in 2007 fleming media launched the pregnancy and parenting website gurgle in conjunction with mothercare .</td>\n",
       "    </tr>\n",
       "    <tr>\n",
       "      <th>3</th>\n",
       "      <td>from 9am steve moran covers all things racing including news updates and late mail .</td>\n",
       "      <td>until 10am</td>\n",
       "      <td>from 9am steve moran covers all things racing including news updates and late mail until 10am .</td>\n",
       "    </tr>\n",
       "    <tr>\n",
       "      <th>4</th>\n",
       "      <td>korean tacos are a korean - mexican fusion dish popular in a number of urban areas in the united states .</td>\n",
       "      <td>and canada</td>\n",
       "      <td>korean tacos are a korean - mexican fusion dish popular in a number of urban areas in the united states and canada .</td>\n",
       "    </tr>\n",
       "  </tbody>\n",
       "</table>\n",
       "</div>"
      ],
      "text/plain": [
       "                                                                                               base_sentence  \\\n",
       "0                       dadaji lost his mother and took to living with his maternal uncle narayan dhurmaji .   \n",
       "1                 shin jae - pil ( ; born 25 may 1982 ) is a south korean footballer who plays as defender .   \n",
       "2       in 2007 fleming launched the pregnancy and parenting website gurgle in conjunction with mothercare .   \n",
       "3                       from 9am steve moran covers all things racing including news updates and late mail .   \n",
       "4  korean tacos are a korean - mexican fusion dish popular in a number of urban areas in the united states .   \n",
       "\n",
       "                           phrase  \\\n",
       "0              in the meanwhile ,   \n",
       "1  for malaysian club misc - mifa   \n",
       "2                           media   \n",
       "3                      until 10am   \n",
       "4                      and canada   \n",
       "\n",
       "                                                                                                             edited_sentence  \n",
       "0                    in the meanwhile , dadaji lost his mother and took to living with his maternal uncle narayan dhurmaji .  \n",
       "1  shin jae - pil ( ; born 25 may 1982 ) is a south korean footballer who plays as defender for malaysian club misc - mifa .  \n",
       "2                 in 2007 fleming media launched the pregnancy and parenting website gurgle in conjunction with mothercare .  \n",
       "3                            from 9am steve moran covers all things racing including news updates and late mail until 10am .  \n",
       "4       korean tacos are a korean - mexican fusion dish popular in a number of urban areas in the united states and canada .  "
      ]
     },
     "execution_count": 11,
     "metadata": {},
     "output_type": "execute_result"
    }
   ],
   "source": [
    "df1[0:5]"
   ]
  },
  {
   "cell_type": "code",
   "execution_count": null,
   "metadata": {},
   "outputs": [
    {
     "name": "stdout",
     "output_type": "stream",
     "text": [
      "Collecting package metadata (current_repodata.json): done\n",
      "Solving environment: / \n",
      "Warning: 2 possible package resolutions (only showing differing packages):\n",
      "  - https://repo.continuum.io/pkgs/main/linux-64::pycosat-0.6.3-py36h14c3975_0\n",
      "  - defaults::pycosat-0.6.3-py36h14c3975done\n",
      "\n",
      "## Package Plan ##\n",
      "\n",
      "  environment location: /home/avaratharaj/anaconda3\n",
      "\n",
      "  added / updated specs:\n",
      "    - nltk\n",
      "\n",
      "\n",
      "The following packages will be downloaded:\n",
      "\n",
      "    package                    |            build\n",
      "    ---------------------------|-----------------\n",
      "    ca-certificates-2020.1.1   |                0         132 KB  anaconda\n",
      "    certifi-2019.11.28         |           py36_0         156 KB  anaconda\n",
      "    conda-4.8.2                |           py36_0         3.0 MB  anaconda\n",
      "    nltk-3.4.5                 |           py36_0         2.1 MB  anaconda\n",
      "    ------------------------------------------------------------\n",
      "                                           Total:         5.4 MB\n",
      "\n",
      "The following NEW packages will be INSTALLED:\n",
      "\n",
      "  nltk               anaconda/linux-64::nltk-3.4.5-py36_0\n",
      "\n",
      "The following packages will be UPDATED:\n",
      "\n",
      "  ca-certificates    conda-forge::ca-certificates-2019.9.1~ --> anaconda::ca-certificates-2020.1.1-0\n",
      "  certifi             conda-forge::certifi-2019.9.11-py36_0 --> anaconda::certifi-2019.11.28-py36_0\n",
      "  conda                    conda-forge::conda-4.7.12-py36_0 --> anaconda::conda-4.8.2-py36_0\n",
      "  openssl            conda-forge::openssl-1.1.1d-h516909a_0 --> anaconda::openssl-1.1.1-h7b6447c_0\n",
      "\n",
      "\n",
      "Proceed ([y]/n)? "
     ]
    }
   ],
   "source": [
    "!conda install -c anaconda nltk"
   ]
  },
  {
   "cell_type": "code",
   "execution_count": 15,
   "metadata": {},
   "outputs": [
    {
     "ename": "ModuleNotFoundError",
     "evalue": "No module named 'nltk'",
     "output_type": "error",
     "traceback": [
      "\u001b[0;31m---------------------------------------------------------------------------\u001b[0m",
      "\u001b[0;31mModuleNotFoundError\u001b[0m                       Traceback (most recent call last)",
      "\u001b[0;32m<ipython-input-15-9c92b5e01642>\u001b[0m in \u001b[0;36m<module>\u001b[0;34m\u001b[0m\n\u001b[0;32m----> 1\u001b[0;31m \u001b[0;32mfrom\u001b[0m \u001b[0mnltk\u001b[0m\u001b[0;34m.\u001b[0m\u001b[0mtokenize\u001b[0m \u001b[0;32mimport\u001b[0m \u001b[0msent_tokenize\u001b[0m\u001b[0;34m,\u001b[0m \u001b[0mword_tokenize\u001b[0m\u001b[0;34m\u001b[0m\u001b[0;34m\u001b[0m\u001b[0m\n\u001b[0m",
      "\u001b[0;31mModuleNotFoundError\u001b[0m: No module named 'nltk'"
     ]
    }
   ],
   "source": [
    "from nltk.tokenize import sent_tokenize, word_tokenize"
   ]
  },
  {
   "cell_type": "code",
   "execution_count": null,
   "metadata": {},
   "outputs": [],
   "source": []
  }
 ],
 "metadata": {
  "kernelspec": {
   "display_name": "Python 3",
   "language": "python",
   "name": "python3"
  },
  "language_info": {
   "codemirror_mode": {
    "name": "ipython",
    "version": 3
   },
   "file_extension": ".py",
   "mimetype": "text/x-python",
   "name": "python",
   "nbconvert_exporter": "python",
   "pygments_lexer": "ipython3",
   "version": "3.6.9"
  }
 },
 "nbformat": 4,
 "nbformat_minor": 2
}
