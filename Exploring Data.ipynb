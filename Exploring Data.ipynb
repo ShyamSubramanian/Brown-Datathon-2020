{
 "cells": [
  {
   "cell_type": "code",
   "execution_count": 1,
   "metadata": {},
   "outputs": [],
   "source": [
    "import pandas as pd"
   ]
  },
  {
   "cell_type": "code",
   "execution_count": 24,
   "metadata": {},
   "outputs": [],
   "source": [
    "pd.options.display.max_colwidth=2000\n"
   ]
  },
  {
   "cell_type": "code",
   "execution_count": 15,
   "metadata": {},
   "outputs": [],
   "source": [
    "df = pd.read_csv('insertions.tsv',sep='\\t')"
   ]
  },
  {
   "cell_type": "code",
   "execution_count": 57,
   "metadata": {},
   "outputs": [
    {
     "data": {
      "text/plain": [
       "840"
      ]
     },
     "execution_count": 57,
     "metadata": {},
     "output_type": "execute_result"
    }
   ],
   "source": [
    "len(df1)"
   ]
  },
  {
   "cell_type": "code",
   "execution_count": 56,
   "metadata": {},
   "outputs": [],
   "source": [
    "df1=df[10:850]"
   ]
  },
  {
   "cell_type": "code",
   "execution_count": 43,
   "metadata": {},
   "outputs": [],
   "source": [
    "df2=df[10:30]"
   ]
  },
  {
   "cell_type": "code",
   "execution_count": null,
   "metadata": {},
   "outputs": [],
   "source": [
    "df1['base_sentence2']=''\n",
    "df1['phrase2']=''\n",
    "df1['edited_sentence2']=''"
   ]
  },
  {
   "cell_type": "code",
   "execution_count": 59,
   "metadata": {},
   "outputs": [
    {
     "data": {
      "text/html": [
       "<div>\n",
       "<style scoped>\n",
       "    .dataframe tbody tr th:only-of-type {\n",
       "        vertical-align: middle;\n",
       "    }\n",
       "\n",
       "    .dataframe tbody tr th {\n",
       "        vertical-align: top;\n",
       "    }\n",
       "\n",
       "    .dataframe thead th {\n",
       "        text-align: right;\n",
       "    }\n",
       "</style>\n",
       "<table border=\"1\" class=\"dataframe\">\n",
       "  <thead>\n",
       "    <tr style=\"text-align: right;\">\n",
       "      <th></th>\n",
       "      <th>base_sentence</th>\n",
       "      <th>phrase</th>\n",
       "      <th>edited_sentence</th>\n",
       "    </tr>\n",
       "  </thead>\n",
       "  <tbody>\n",
       "    <tr>\n",
       "      <th>10</th>\n",
       "      <td>The presentation by the Queen at Buckingham Palace was made to his daughter , Mhairi McGeachy .</td>\n",
       "      <td>partner and</td>\n",
       "      <td>The presentation by the Queen at Buckingham Palace was made to his partner and daughter , Mhairi McGeachy .</td>\n",
       "    </tr>\n",
       "    <tr>\n",
       "      <th>11</th>\n",
       "      <td>In patients with cases of bipolar disorder , the patient experiences serious mood swings .</td>\n",
       "      <td>that last for days or even weeks</td>\n",
       "      <td>In patients with cases of bipolar disorder , the patient experiences serious mood swings that last for days or even weeks .</td>\n",
       "    </tr>\n",
       "    <tr>\n",
       "      <th>12</th>\n",
       "      <td>However , even though the Hollies ' master rights were owned by Capitol Records ' parent company , EMI , Capitol Canada decided to counterprogram against The Hollies ' first Epic release , '' Evolution '' .</td>\n",
       "      <td>new</td>\n",
       "      <td>However , even though the Hollies ' new master rights were owned by Capitol Records ' parent company , EMI , Capitol Canada decided to counterprogram against The Hollies ' first Epic release , '' Evolution '' .</td>\n",
       "    </tr>\n",
       "    <tr>\n",
       "      <th>13</th>\n",
       "      <td>He was assassinated by the members of the Turani faction .</td>\n",
       "      <td>by Haidar Khan Turani</td>\n",
       "      <td>He was assassinated by the members of the Turani faction by Haidar Khan Turani .</td>\n",
       "    </tr>\n",
       "    <tr>\n",
       "      <th>14</th>\n",
       "      <td>Some for - profit clinics exist , but they provide less than 2 % of health services .</td>\n",
       "      <td>care</td>\n",
       "      <td>Some for - profit clinics exist , but they provide less than 2 % of health care services .</td>\n",
       "    </tr>\n",
       "    <tr>\n",
       "      <th>15</th>\n",
       "      <td>It lies at the junction of the A63 ( Selby ) Road and A64 ( York ) Roads .</td>\n",
       "      <td>blends in to the Cross Gates and Seacroft areas , and</td>\n",
       "      <td>It blends in to the Cross Gates and Seacroft areas , and lies at the junction of the A63 ( Selby ) Road and A64 ( York ) Roads .</td>\n",
       "    </tr>\n",
       "    <tr>\n",
       "      <th>16</th>\n",
       "      <td>The Immedinger were a noble family of Saxony .</td>\n",
       "      <td>descended from the Saxon king Widukind</td>\n",
       "      <td>The Immedinger were a noble family of Saxony descended from the Saxon king Widukind .</td>\n",
       "    </tr>\n",
       "    <tr>\n",
       "      <th>17</th>\n",
       "      <td>A ridgling ( also spelled ridgeling ) , or rig , is a cryptorchid ; a male animal with one or both testicles undescended , usually describing a ram , bull , or male horse .</td>\n",
       "      <td>, but cryptorchidism also can be an issue in dogs and cats</td>\n",
       "      <td>A ridgling ( also spelled ridgeling ) , or rig , is a cryptorchid ; a male animal with one or both testicles undescended , usually describing a ram , bull , or male horse , but cryptorchidism also can be an issue in dogs and cats .</td>\n",
       "    </tr>\n",
       "    <tr>\n",
       "      <th>18</th>\n",
       "      <td>Changsha saw rebellion in 157 CE as well , affecting Yiyang County .</td>\n",
       "      <td>the rise of a</td>\n",
       "      <td>Changsha saw the rise of a rebellion in 157 CE as well , affecting Yiyang County .</td>\n",
       "    </tr>\n",
       "    <tr>\n",
       "      <th>19</th>\n",
       "      <td>Bano Qudsia ( Punjabi , ) ( born 1928 ) is a writer , playwright and spiritualist from Pakistan who writes Urdu novels and short stories .</td>\n",
       "      <td>died 4th Febuary 2017</td>\n",
       "      <td>Bano Qudsia ( Punjabi , ) ( born 1928 ) died 4th Febuary 2017 is a writer , playwright and spiritualist from Pakistan who writes Urdu novels and short stories .</td>\n",
       "    </tr>\n",
       "  </tbody>\n",
       "</table>\n",
       "</div>"
      ],
      "text/plain": [
       "                                                                                                                                                                                                     base_sentence  \\\n",
       "10                                                                                                                 The presentation by the Queen at Buckingham Palace was made to his daughter , Mhairi McGeachy .   \n",
       "11                                                                                                                      In patients with cases of bipolar disorder , the patient experiences serious mood swings .   \n",
       "12  However , even though the Hollies ' master rights were owned by Capitol Records ' parent company , EMI , Capitol Canada decided to counterprogram against The Hollies ' first Epic release , '' Evolution '' .   \n",
       "13                                                                                                                                                      He was assassinated by the members of the Turani faction .   \n",
       "14                                                                                                                           Some for - profit clinics exist , but they provide less than 2 % of health services .   \n",
       "15                                                                                                                                      It lies at the junction of the A63 ( Selby ) Road and A64 ( York ) Roads .   \n",
       "16                                                                                                                                                                  The Immedinger were a noble family of Saxony .   \n",
       "17                                    A ridgling ( also spelled ridgeling ) , or rig , is a cryptorchid ; a male animal with one or both testicles undescended , usually describing a ram , bull , or male horse .   \n",
       "18                                                                                                                                            Changsha saw rebellion in 157 CE as well , affecting Yiyang County .   \n",
       "19                                                                      Bano Qudsia ( Punjabi , ) ( born 1928 ) is a writer , playwright and spiritualist from Pakistan who writes Urdu novels and short stories .   \n",
       "\n",
       "                                                        phrase  \\\n",
       "10                                                 partner and   \n",
       "11                            that last for days or even weeks   \n",
       "12                                                         new   \n",
       "13                                       by Haidar Khan Turani   \n",
       "14                                                        care   \n",
       "15       blends in to the Cross Gates and Seacroft areas , and   \n",
       "16                      descended from the Saxon king Widukind   \n",
       "17  , but cryptorchidism also can be an issue in dogs and cats   \n",
       "18                                               the rise of a   \n",
       "19                                       died 4th Febuary 2017   \n",
       "\n",
       "                                                                                                                                                                                                                            edited_sentence  \n",
       "10                                                                                                                              The presentation by the Queen at Buckingham Palace was made to his partner and daughter , Mhairi McGeachy .  \n",
       "11                                                                                                              In patients with cases of bipolar disorder , the patient experiences serious mood swings that last for days or even weeks .  \n",
       "12                       However , even though the Hollies ' new master rights were owned by Capitol Records ' parent company , EMI , Capitol Canada decided to counterprogram against The Hollies ' first Epic release , '' Evolution '' .  \n",
       "13                                                                                                                                                         He was assassinated by the members of the Turani faction by Haidar Khan Turani .  \n",
       "14                                                                                                                                               Some for - profit clinics exist , but they provide less than 2 % of health care services .  \n",
       "15                                                                                                         It blends in to the Cross Gates and Seacroft areas , and lies at the junction of the A63 ( Selby ) Road and A64 ( York ) Roads .  \n",
       "16                                                                                                                                                    The Immedinger were a noble family of Saxony descended from the Saxon king Widukind .  \n",
       "17  A ridgling ( also spelled ridgeling ) , or rig , is a cryptorchid ; a male animal with one or both testicles undescended , usually describing a ram , bull , or male horse , but cryptorchidism also can be an issue in dogs and cats .  \n",
       "18                                                                                                                                                       Changsha saw the rise of a rebellion in 157 CE as well , affecting Yiyang County .  \n",
       "19                                                                         Bano Qudsia ( Punjabi , ) ( born 1928 ) died 4th Febuary 2017 is a writer , playwright and spiritualist from Pakistan who writes Urdu novels and short stories .  "
      ]
     },
     "execution_count": 59,
     "metadata": {},
     "output_type": "execute_result"
    }
   ],
   "source": [
    "df1[0:10]"
   ]
  },
  {
   "cell_type": "code",
   "execution_count": 58,
   "metadata": {},
   "outputs": [],
   "source": [
    "df1.to_csv('test2.csv')"
   ]
  },
  {
   "cell_type": "code",
   "execution_count": 32,
   "metadata": {},
   "outputs": [],
   "source": [
    "df1=df1[['base_sentence']]\n",
    "df1.columns=['text']\n",
    "df1.to_csv('mturk.csv')"
   ]
  },
  {
   "cell_type": "code",
   "execution_count": null,
   "metadata": {},
   "outputs": [],
   "source": []
  }
 ],
 "metadata": {
  "kernelspec": {
   "display_name": "Python 3",
   "language": "python",
   "name": "python3"
  },
  "language_info": {
   "codemirror_mode": {
    "name": "ipython",
    "version": 3
   },
   "file_extension": ".py",
   "mimetype": "text/x-python",
   "name": "python",
   "nbconvert_exporter": "python",
   "pygments_lexer": "ipython3",
   "version": "3.6.9"
  }
 },
 "nbformat": 4,
 "nbformat_minor": 2
}
